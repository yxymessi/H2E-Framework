{
 "cells": [
  {
   "cell_type": "code",
   "execution_count": null,
   "metadata": {},
   "outputs": [],
   "source": [
    "import os\n",
    "import shutil\n",
    "import json"
   ]
  },
  {
   "cell_type": "code",
   "execution_count": null,
   "metadata": {},
   "outputs": [],
   "source": [
    "RAW_DATA_PATH =\"./data/dataset/mini-imagenet/all_images\"\n",
    "ANNO_PATH = './dataset_no_images/mini-imagenet-annotations.json'\n",
    "NEW_PATH = './data/noisy_mini/'"
   ]
  },
  {
   "cell_type": "code",
   "execution_count": null,
   "metadata": {},
   "outputs": [],
   "source": [
    "#create folder\n",
    "def create_folder(number,data_path):\n",
    "    i = 0\n",
    "    for i in range(number): \n",
    "        i=i+1\n",
    "        file_name = data_path + str(i)\n",
    "        os.mkdir(file_name)"
   ]
  },
  {
   "cell_type": "code",
   "execution_count": null,
   "metadata": {},
   "outputs": [],
   "source": [
    "create_folder(100,NEW_PATH)"
   ]
  },
  {
   "cell_type": "code",
   "execution_count": null,
   "metadata": {},
   "outputs": [],
   "source": [
    "#disperse the web pics\n",
    "with open(ANNO_PATH,'r',encoding='utf8')as fp:\n",
    "    dataset = json.load(fp)\n",
    "\n",
    "noise_dict = {}\n",
    "dataset = dataset['data']\n",
    "for i in range(len(dataset)):\n",
    "        image_dict = dataset[i]\n",
    "        image_info = image_dict[0]\n",
    "        image_id = image_info['image/id']\n",
    "        image_label =  image_info['image/class/label']\n",
    "        image_flag = image_info['image/class/label/is_clean']\n",
    "        old_path = os.path.join(RAW_DATA_PATH,image_id+'.jpg')\n",
    "        new_path = os.path.join(NEW_PATH,str(image_label),image_id+'.jpg')\n",
    "        noise_dict[image_id] = image_flag\n",
    "        try :\n",
    "            shutil.copy(old_path,new_path)\n",
    "        except:\n",
    "            pass\n",
    "\n",
    "\n",
    "\n",
    "\n"
   ]
  },
  {
   "cell_type": "code",
   "execution_count": null,
   "metadata": {},
   "outputs": [],
   "source": [
    "with open('./noise_longtail/json/noise_dict.json', 'w') as f:\n",
    "    json.dump(noise_dict,f)"
   ]
  },
  {
   "cell_type": "code",
   "execution_count": 43,
   "metadata": {},
   "outputs": [],
   "source": [
    "NEW_PATH = \"/data/combined_mini/all_images\"\n",
    "#read txt method one\n",
    "f = open(\"./dataset_no_images/mini-imagenet/split/red_noise_nl_0.0.txt\")\n",
    "lines = f.readlines()\n",
    "for line in lines:\n",
    "    image_id = line[0:line.find(' ')]\n",
    "    image_label = line[line.find(' ')+1:-1]\n",
    "    old_path = os.path.join(RAW_DATA_PATH,image_id)\n",
    "    new_path = os.path.join(NEW_PATH,str(image_label))\n",
    "    shutil.copy(old_path,new_path)\n",
    "\n"
   ]
  }
 ],
 "metadata": {
  "interpreter": {
   "hash": "c83cd196be9690579e23fc16b3592ea6cb293f20dd01924ebfb8af0e7da21870"
  },
  "kernelspec": {
   "display_name": "Python 3.8.11 64-bit ('env_1': conda)",
   "name": "python3"
  },
  "language_info": {
   "codemirror_mode": {
    "name": "ipython",
    "version": 3
   },
   "file_extension": ".py",
   "mimetype": "text/x-python",
   "name": "python",
   "nbconvert_exporter": "python",
   "pygments_lexer": "ipython3",
   "version": "3.8.11"
  },
  "orig_nbformat": 4
 },
 "nbformat": 4,
 "nbformat_minor": 2
}
