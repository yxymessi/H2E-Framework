{
 "cells": [
  {
   "cell_type": "code",
   "execution_count": null,
   "metadata": {},
   "outputs": [],
   "source": [
    "import torchvision\n",
    "import torchvision.transforms as transforms\n",
    "import numpy as np\n",
    "from PIL import Image\n",
    "import random\n",
    "import torch\n",
    "import os\n",
    "import shutil\n",
    "import matplotlib.pyplot as plt\n",
    "PATH_1 = \"./data/dataset/LT_with_noise/LT_noise/combined_noise_nl_0.2/\"\n",
    "PATH_2 = \"./data/dataset/LT_with_noise/LT_noise/combined_noise_nl_0.4/\"\n",
    "PATH_IN = \"./data/dataset/LT_with_noise/imagenet_noise/0.0_red\"\n",
    "PATH_OUT = \"./data/dataset/LT_with_noise/noise_pool/\"\n"
   ]
  },
  {
   "cell_type": "code",
   "execution_count": null,
   "metadata": {},
   "outputs": [],
   "source": [
    "\n",
    "def get_img_num_per_cls(raw_len, cls_num, imb_type, imb_factor):\n",
    "    img_max = raw_len\n",
    "    img_num_per_cls = []\n",
    "    if imb_type == 'exp':\n",
    "        for cls_idx in range(cls_num):\n",
    "            num = img_max * (imb_factor**(cls_idx / (cls_num - 1.0)))\n",
    "            img_num_per_cls.append(int(num))\n",
    "    elif imb_type == 'step':\n",
    "        for cls_idx in range(cls_num // 2):\n",
    "            img_num_per_cls.append(int(img_max))\n",
    "        for cls_idx in range(cls_num // 2):\n",
    "            img_num_per_cls.append(int(img_max * imb_factor))\n",
    "    else:\n",
    "        img_num_per_cls.extend([int(img_max)] * cls_num)\n",
    "    return img_num_per_cls"
   ]
  },
  {
   "cell_type": "code",
   "execution_count": null,
   "metadata": {},
   "outputs": [],
   "source": [
    "noise_rate = 0\n",
    "cls_num = 100\n",
    "imb_type = 'exp'\n",
    "imbalance_ratio = 0.05\n",
    "raw_len = 1000\n",
    "img_num_list = get_img_num_per_cls(raw_len, cls_num, imb_type, imbalance_ratio)"
   ]
  },
  {
   "cell_type": "code",
   "execution_count": null,
   "metadata": {},
   "outputs": [],
   "source": [
    "i = 0\n",
    "\n",
    "for cls in range(0,cls_num):\n",
    "    cls = str(cls)\n",
    "    if len(cls) ==1:\n",
    "      cls = '0'+cls\n",
    "    os.mkdir(os.path.join(PATH_OUT,cls))\n",
    "    num = img_num_list[i]\n",
    "    i = i+1\n",
    "    sub_path = os.path.join(PATH_IN,cls)\n",
    "    name_list = os.listdir(sub_path)\n",
    "    sample_num = int(num*(1-noise_rate))\n",
    "    noise_num = int(num*noise_rate)\n",
    "    sample_list,noise_list = [],[]\n",
    "    for pic_name in name_list:\n",
    "        #if pic_name[0] == 'n':\n",
    "        #    sample_list.append(pic_name)\n",
    "        #else:\n",
    "        #    noise_list.append(pic_name)\n",
    "        sample_list.append(pic_name)\n",
    "\n",
    "    random.shuffle(sample_list)\n",
    "    sample_list = sample_list[:sample_num]\n",
    "\n",
    "    for sample in sample_list:\n",
    "        in_path = os.path.join(sub_path,sample)\n",
    "        out_path = os.path.join(PATH_OUT,cls)\n",
    "        shutil.copy(in_path,out_path)\n",
    "    \n",
    "    '''\n",
    "    random.shuffle(noise_list)\n",
    "    noise_list = noise_list[:noise_num]\n",
    "\n",
    "\n",
    "    for noise in noise_list:\n",
    "        in_path = os.path.join(sub_path,noise)\n",
    "        out_path = os.path.join(PATH_OUT,cls)\n",
    "        shutil.copy(in_path,out_path)\n",
    "    '''"
   ]
  },
  {
   "cell_type": "code",
   "execution_count": null,
   "metadata": {},
   "outputs": [],
   "source": [
    "\n",
    "noise_rate = 0.2\n",
    "# create noise pool\n",
    "for cls in os.listdir(PATH_2):\n",
    "    temp_path = os.path.join(PATH_2,cls)\n",
    "    sample_list = os.listdir(temp_path)\n",
    "    true_sample_list =[]\n",
    "    for sample in sample_list:\n",
    "        if sample[0] == 'n' :\n",
    "            true_sample_list.append(sample)\n",
    "\n",
    "    sample_num = int(noise_rate * 1000)\n",
    "    random.shuffle(true_sample_list)\n",
    "    true_sample_list = true_sample_list[:sample_num]\n",
    "    for sample in true_sample_list:\n",
    "        shutil.move(os.path.join(temp_path,sample),PATH_OUT)\n",
    "    "
   ]
  },
  {
   "cell_type": "code",
   "execution_count": null,
   "metadata": {},
   "outputs": [],
   "source": [
    "\n",
    "print(true_sample_list)"
   ]
  },
  {
   "cell_type": "code",
   "execution_count": null,
   "metadata": {},
   "outputs": [],
   "source": [
    "# add noise\n",
    "\n",
    "noise_rate = 0.2\n",
    "for cls in os.listdir(PATH_2):\n",
    "    temp_path = os.path.join(PATH_2,cls)\n",
    "    sample_list = os.listdir(PATH_OUT)\n",
    "    sample_num = int(noise_rate * 1000)\n",
    "    random.shuffle(sample_list)\n",
    "    sample_list = sample_list[:sample_num]\n",
    "    for sample in sample_list:\n",
    "        shutil.move(os.path.join(PATH_OUT,sample),temp_path)\n"
   ]
  }
 ],
 "metadata": {
  "interpreter": {
   "hash": "406f4f9549b37ae82acfac2a427e8bacb16ad0662349a2733d23c3b8a370d9fd"
  },
  "kernelspec": {
   "display_name": "Python 3.8.11 64-bit ('LWN': conda)",
   "name": "python3"
  },
  "language_info": {
   "codemirror_mode": {
    "name": "ipython",
    "version": 3
   },
   "file_extension": ".py",
   "mimetype": "text/x-python",
   "name": "python",
   "nbconvert_exporter": "python",
   "pygments_lexer": "ipython3",
   "version": "3.8.11"
  },
  "orig_nbformat": 4
 },
 "nbformat": 4,
 "nbformat_minor": 2
}
