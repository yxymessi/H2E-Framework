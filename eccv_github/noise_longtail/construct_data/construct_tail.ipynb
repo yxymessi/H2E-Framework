{
 "cells": [
  {
   "cell_type": "code",
   "execution_count": null,
   "metadata": {},
   "outputs": [],
   "source": [
    "import torchvision\n",
    "import torchvision.transforms as transforms\n",
    "import numpy as np\n",
    "from PIL import Image\n",
    "import random\n",
    "import torch\n",
    "import os\n",
    "import shutil\n",
    "import matplotlib.pyplot as plt\n",
    "PATH_IN = \"./data/dataset/LT_with_noise/LT_noise/combined_noise_nl_0.4/\"\n"
   ]
  },
  {
   "cell_type": "code",
   "execution_count": null,
   "metadata": {},
   "outputs": [],
   "source": [
    "def get_img_num_per_cls(raw_len, cls_num, imb_type, imb_factor):\n",
    "    img_max = raw_len\n",
    "    img_num_per_cls = []\n",
    "    if imb_type == 'exp':\n",
    "        for cls_idx in range(cls_num):\n",
    "            num = img_max * (imb_factor**(cls_idx / (cls_num - 1.0)))\n",
    "            img_num_per_cls.append(int(num))\n",
    "    elif imb_type == 'step':\n",
    "        for cls_idx in range(cls_num // 2):\n",
    "            img_num_per_cls.append(int(img_max))\n",
    "        for cls_idx in range(cls_num // 2):\n",
    "            img_num_per_cls.append(int(img_max * imb_factor))\n",
    "    else:\n",
    "        img_num_per_cls.extend([int(img_max)] * cls_num)\n",
    "    return img_num_per_cls"
   ]
  },
  {
   "cell_type": "code",
   "execution_count": null,
   "metadata": {},
   "outputs": [],
   "source": [
    "#noise_rate = 0.3\n",
    "cls_num = 100\n",
    "imb_type = 'exp'\n",
    "imbalance_ratio = 0.05\n",
    "raw_len = 1000\n",
    "img_num_list = get_img_num_per_cls(raw_len, cls_num, imb_type, imbalance_ratio)\n",
    "print(img_num_list)"
   ]
  },
  {
   "cell_type": "code",
   "execution_count": null,
   "metadata": {},
   "outputs": [],
   "source": [
    "i = 0\n",
    "for cls in range(0,100):\n",
    "    cls = str(cls)\n",
    "    if len(cls) == 1:\n",
    "        cls = '0'+cls\n",
    "    num = img_num_list[i]\n",
    "    i = i+1\n",
    "    sub_path = os.path.join(PATH_IN,cls)\n",
    "    name_list = os.listdir(sub_path)\n",
    "    remove_num = 1000 - num\n",
    "\n",
    "    random.shuffle(name_list)\n",
    "    name_list = name_list[:remove_num]\n",
    "\n",
    "    for sample in name_list:\n",
    "        os.remove(os.path.join(sub_path,sample))\n",
    "\n",
    "\n"
   ]
  },
  {
   "cell_type": "code",
   "execution_count": null,
   "metadata": {},
   "outputs": [],
   "source": [
    "#observe\n",
    "plt.plot(list(range(0,101)),img_num_list,color = 'orange')\n",
    "plt.bar(list(range(0,101)),img_num_list)"
   ]
  }
 ],
 "metadata": {
  "interpreter": {
   "hash": "406f4f9549b37ae82acfac2a427e8bacb16ad0662349a2733d23c3b8a370d9fd"
  },
  "kernelspec": {
   "display_name": "Python 3.8.11 64-bit ('LWN': conda)",
   "name": "python3"
  },
  "language_info": {
   "codemirror_mode": {
    "name": "ipython",
    "version": 3
   },
   "file_extension": ".py",
   "mimetype": "text/x-python",
   "name": "python",
   "nbconvert_exporter": "python",
   "pygments_lexer": "ipython3",
   "version": "3.8.11"
  },
  "orig_nbformat": 4
 },
 "nbformat": 4,
 "nbformat_minor": 2
}
